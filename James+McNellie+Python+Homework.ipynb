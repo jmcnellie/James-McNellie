{
 "cells": [
  {
   "cell_type": "code",
   "execution_count": 7,
   "metadata": {
    "collapsed": false
   },
   "outputs": [
    {
     "name": "stdout",
     "output_type": "stream",
     "text": [
      "C:\\Users\\mcnellie\\Dropbox\\Spring 2017\\BCB 546X\\Python\\python homework\n"
     ]
    }
   ],
   "source": [
    "import os\n",
    "os.chdir(\"C:/Users/mcnellie/Dropbox/Spring 2017/BCB  546X/Python/python homework\")\n",
    "print(os.getcwd())\n",
    "\n",
    "from Bio import SeqIO\n",
    "from Bio.Data import CodonTable\n",
    "import pandas as pd\n",
    "    \n",
    "##1##\n",
    "def get_sequences_from_file(fasta_fn): #naming function and listing required inputs\n",
    "    sequence_data_dict = {} #creates an empty dictionary\n",
    "    for record in SeqIO.parse(fasta_fn, \"fasta\"): #starts the loops. Will go through every SeqRecord created by using SeqIO.parse and extract desired information\n",
    "        description = record.description.split() #string split the column named which is the 'record.description'\n",
    "        species_name = description[1] + \" \" + description[2] #pastes together the first and second elements from the split to create a species name\n",
    "        sequence_data_dict[species_name] = record.seq #adds the species name and the corresponding sequence (record.seq) to the dictionary\n",
    "    return(sequence_data_dict) #end of loop, returns output\n",
    "\n"
   ]
  },
  {
   "cell_type": "code",
   "execution_count": 3,
   "metadata": {
    "collapsed": true
   },
   "outputs": [],
   "source": [
    "##2##\n",
    "def translate_function(string_nucleotides): #naming function and listing required inputs\n",
    "    mito_table = CodonTable.unambiguous_dna_by_id[2] #creates a CodonTable named 'mito_table' that corresponds to Vertebrate Mitochondrial \n",
    "    aa_seq_string=list() #empty list to be filled in with amino acids by the loop\n",
    "    for i in range(0,len(string_nucleotides),3): #starting loop and defining the range to loop over\n",
    "        if (string_nucleotides[i:i+3]) not in mito_table.stop_codons: #Will not translate a stop codon. I should have coded this differently I realize, the loop should end ('break') if it reaches a stop codon not skip over it as I have it coded\n",
    "            aa_seq_string.append(mito_table.forward_table[str(string_nucleotides[i:i+3])]) #takes the 3 nucleotide sequence ([i:i+3]), looks up codon in table, and adds result to list\n",
    "    return(aa_seq_string) #returns list of amino acids"
   ]
  },
  {
   "cell_type": "code",
   "execution_count": 4,
   "metadata": {
    "collapsed": true
   },
   "outputs": [],
   "source": [
    "##3##\n",
    "from Bio.Seq import Seq\n",
    "from Bio.Alphabet import generic_dna\n",
    "def better_translate(string_nucleotides):#naming function and listing required inputs\n",
    "    string_nucleotides=Seq(string_nucleotides, generic_dna) #takes the input, a string of nucleotides (string_nucleotides) and changes format to DNA sequence\n",
    "    aa_seq_string=str(string_nucleotides.translate(table=\"Vertebrate Mitochondrial\")) #translates the whole sequence at once (instead of using range) to ammino acids\n",
    "    return aa_seq_string #returns output\n"
   ]
  },
  {
   "cell_type": "code",
   "execution_count": 5,
   "metadata": {
    "collapsed": true
   },
   "outputs": [],
   "source": [
    "##4##\n",
    "def get_proportion_aa_type_function(aa_seq): #naming function and listing required inputs\n",
    "    charged = ['R','K','D','E'] #lists charged amino acids\n",
    "    polar = ['Q','N','H','S','T','Y','C','M','W'] #lists polar amino acids\n",
    "    hydrophobic = ['A','I','L','F','V','P','G'] #lists hydrophobic amino acids\n",
    "    num_charged=0 #creating an empty (equal to zero) object to be used in the loop\n",
    "    num_polar=0 #creating an empty (equal to zero) object to be used in the loop\n",
    "    num_hydro=0 #creating an empty (equal to zero) object to be used in the loop\n",
    "    for letter in list(set(aa_seq)): #starting loop. Will take each unique amino acids present (set() extracts unique values in random order), tests which catagory of amino acids it belongs and count the number of times that letter appears in the sequence and add that amount to total number of amino acids of that type.  \n",
    "        if letter in charged: #testing if amino acid is charge\n",
    "            num_charged = num_charged + aa_seq.count(letter) #counting number of times the amino acid appears in the sequence and adds it an object tracking the number of amino acids of that type.\n",
    "        elif letter in polar: #testing if amino acid is polar\n",
    "            num_polar = num_polar + aa_seq.count(letter) #counting number of times the amino acid appears in the sequence and adds it an object tracking the number of amino acids of that type.\n",
    "        elif letter in hydrophobic: #testing if amino acid is hydrophobic\n",
    "            num_hydro = num_hydro + aa_seq.count(letter) #counting number of times the amino acid appears in the sequence and adds it an object tracking the number of amino acids of that type.\n",
    "    return num_charged/(len(aa_seq)-1), num_polar/(len(aa_seq)-1), num_hydro/(len(aa_seq)-1) #returns the total number of amino acids belonging to each of the three types and divided by the total number of amino acids\n"
   ]
  },
  {
   "cell_type": "code",
   "execution_count": 10,
   "metadata": {
    "collapsed": false
   },
   "outputs": [],
   "source": [
    "##5##\n",
    "cytb_seqs = get_sequences_from_file(\"bears_cytb.fasta\") #loading DNA sequences for 9 bear species\n",
    "bear_df = pd.read_csv(\"bears_data.csv\") # Includes only data for body mass currently and empty cells for other columns\n",
    "species_list = list(bear_df.species)\n",
    "\n",
    "row_track=0\n",
    "for key, value in cytb_seqs.items():#setting up the loop to go over all keys and their values in the dictionary cytb_seqs\n",
    "    aa_seq = better_translate(str(value))#translates the DNA sequence of the value into amino acids\n",
    "    bear_df.iloc[row_track,2]=get_proportion_aa_type_function(aa_seq)[0] #calculates the proportion of charged amino acids and saves it in the bear_df\n",
    "    bear_df.iloc[row_track,3]=get_proportion_aa_type_function(aa_seq)[1] #calculates the proportion of polar amino acids and saves it in the bear_df\n",
    "    bear_df.iloc[row_track,4]=get_proportion_aa_type_function(aa_seq)[2] #calculates the proportion of hydrophobic amino acids and saves it in the bear_df\n",
    "    row_track=row_track + 1 #increases row number so results from next loop will be saved in correct location\n",
    "%matplotlib inline\n",
    "\n",
    "#another loop, how I did it orginally before I went back and re-read the question. Not sure if it is any better or worse...\n",
    "for i in range(0,len(bear_df.index)):\n",
    "    bear_df.iloc[i,2]=get_proportion_aa_type_function(better_translate(str(cytb_seqs[bear_df.iloc[i,0]])))[0]\n",
    "    bear_df.iloc[i,3]=get_proportion_aa_type_function(better_translate(str(cytb_seqs[bear_df.iloc[i,0]])))[1]\n",
    "    bear_df.iloc[i,4]=get_proportion_aa_type_function(better_translate(str(cytb_seqs[bear_df.iloc[i,0]])))[2]\n"
   ]
  },
  {
   "cell_type": "code",
   "execution_count": 15,
   "metadata": {
    "collapsed": false
   },
   "outputs": [
    {
     "data": {
      "image/png": "[encoded data removed]",
      "text/plain": [
       "<matplotlib.figure.Figure at 0x69b79beba8>"
      ]
     },
     "metadata": {},
     "output_type": "display_data"
    }
   ],
   "source": [
    "##6##\n",
    "#bear_df.plot(x='species', y='mass', kind='bar')\n",
    "\n",
    "#another way\n",
    "import seaborn as sns\n",
    "bear_mass_plot=sns.barplot(x='mass',y='species', data=bear_df)"
   ]
  },
  {
   "cell_type": "code",
   "execution_count": 13,
   "metadata": {
    "collapsed": false
   },
   "outputs": [
    {
     "data": {
      "text/plain": [
       "<matplotlib.axes._subplots.AxesSubplot at 0x69b795ab70>"
      ]
     },
     "execution_count": 13,
     "metadata": {},
     "output_type": "execute_result"
    },
    {
     "data": {
      "image/png": "[encoded data removed]",
      "text/plain": [
       "<matplotlib.figure.Figure at 0x69b9f042b0>"
      ]
     },
     "metadata": {},
     "output_type": "display_data"
    }
   ],
   "source": [
    "## 7 ##\n",
    "bears2=bear_df.loc[:,('species', 'charged', 'polar', 'hydrophobic')]#pulling out columns of interest\n",
    "bears2.plot(x='species',kind='bar')"
   ]
  },
  {
   "cell_type": "code",
   "execution_count": 14,
   "metadata": {
    "collapsed": true
   },
   "outputs": [],
   "source": [
    "## 8 ##\n",
    "bear_df.to_csv(\"bears_mass_cytb.csv\", index=False)"
   ]
  },
  {
   "cell_type": "code",
   "execution_count": null,
   "metadata": {
    "collapsed": true
   },
   "outputs": [],
   "source": []
  }
 ],
 "metadata": {
  "anaconda-cloud": {},
  "kernelspec": {
   "display_name": "Python [default]",
   "language": "python",
   "name": "python3"
  },
  "language_info": {
   "codemirror_mode": {
    "name": "ipython",
    "version": 3
   },
   "file_extension": ".py",
   "mimetype": "text/x-python",
   "name": "python",
   "nbconvert_exporter": "python",
   "pygments_lexer": "ipython3",
   "version": "3.5.3"
  }
 },
 "nbformat": 4,
 "nbformat_minor": 2
}
